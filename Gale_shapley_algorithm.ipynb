{
 "cells": [
  {
   "cell_type": "markdown",
   "id": "c908b48c-5e09-44a3-bd2b-03d708591ee7",
   "metadata": {},
   "source": [
    "# FUNCTION"
   ]
  },
  {
   "cell_type": "code",
   "execution_count": 2,
   "id": "ee0d12a4-725f-474d-b151-49187025ae80",
   "metadata": {},
   "outputs": [],
   "source": [
    "def gale_shapley_matching(jobs, #A list of Job ID / Job Name\n",
    "                          cvs, # A list of CVs\n",
    "                          job_pref, # A dictionary of Jobs and according CVs with descending similarity scores acqured from the first part\n",
    "                          cv_preferences, # A dictionary of CVs and Jobs that candidates have applied\n",
    "                          k): # A number of candidates that employer will sort out at the end of this phase\n",
    "    # Create dummy jobs\n",
    "    # Because we have fewer jobs than CVs (rule 03), we need to create dummy jobs to balance the data\n",
    "    dummy_jobs = ['Dummy Job {}'.format(i) for i in range(len(cvs) - len(jobs))]  # Generate dummy job identifiers\n",
    "    jobs += dummy_jobs  # Append dummy jobs to the list of jobs\n",
    "\n",
    "    # Initialize all participants as free and unchosen\n",
    "    free_jobs = set(jobs)  # Create a set of all jobs, initially all are free\n",
    "    # The set() function in Python is used to create an unordered collection of unique elements\n",
    "    # Dictionary to store the final job-CV engagements\n",
    "    job_engagements = {job: [] for job in jobs}\n",
    "    # Number of available slots for each job\n",
    "    job_slots = {job: k for job in jobs}\n",
    "\n",
    "    while free_jobs:\n",
    "        job = free_jobs.pop()\n",
    "        # Skip dummy jobs\n",
    "        if job.startswith('Dummy Job'):\n",
    "            continue\n",
    "        # Get the preferenced CV list of the current job\n",
    "        job_preferences = job_pref[job]\n",
    "        # Filter preferences to exclude unavailable CVs\n",
    "        job_preferences = [cv for cv in job_preferences if cv in cvs]\n",
    "\n",
    "        for cv in job_preferences:\n",
    "            if cv in cvs:\n",
    "                if job_slots[job] > 0:\n",
    "                    # Assign the CV to the job\n",
    "                    job_engagements[job].append(cv)\n",
    "                    # Remove the CV from the list of available CVs\n",
    "                    cvs.remove(cv)\n",
    "                    # Reduce the available slot count for the job\n",
    "                    job_slots[job] -= 1\n",
    "            elif cv in dummy_jobs:\n",
    "                # Assign the dummy CV to the job\n",
    "                job_engagements[job].append(cv)\n",
    "\n",
    "    # Remove dummy job engagements\n",
    "    job_engagements = {job: cves for job, cves in job_engagements.items() if not job.startswith('Dummy Job')}\n",
    "\n",
    "    return job_engagements"
   ]
  },
  {
   "cell_type": "markdown",
   "id": "79b634ec-d5e0-46fb-afa9-1547d0d7c27d",
   "metadata": {},
   "source": [
    "# INPUTS"
   ]
  },
  {
   "cell_type": "code",
   "execution_count": 3,
   "id": "f19a1417-2c49-43f9-8a4e-f9e23a9c0328",
   "metadata": {},
   "outputs": [],
   "source": [
    "jobs = ['Job A', 'Job B']\n",
    "cvs = ['CV 1', 'CV 2', 'CV 3', 'CV 4', 'CV 5']\n",
    "\n",
    "job_preferences = {\n",
    "    'Job A': ['CV 1', 'CV 3', 'CV 4'],\n",
    "    'Job B': ['CV 2','CV 5', 'CV 3']\n",
    "}\n",
    "\n",
    "cv_preferences = {\n",
    "    'CV 1': ['Job B', 'Job A'],\n",
    "    'CV 2': ['Job B'],\n",
    "    'CV 3': ['Job A', 'Job B'],\n",
    "    'CV 4': ['Job A'],\n",
    "    'CV 5': ['Job B', 'Job A']\n",
    "}\n",
    "\n",
    "k = 2"
   ]
  },
  {
   "cell_type": "markdown",
   "id": "83ba1ab7-e3c2-4615-a29f-db6a7adb2e42",
   "metadata": {},
   "source": [
    "# TESTING"
   ]
  },
  {
   "cell_type": "code",
   "execution_count": 4,
   "id": "aa261499-795d-4f31-80a8-e3a6cc80829c",
   "metadata": {},
   "outputs": [
    {
     "name": "stdout",
     "output_type": "stream",
     "text": [
      "{'Job A': ['CV 1', 'CV 3'], 'Job B': ['CV 2', 'CV 5']}\n"
     ]
    }
   ],
   "source": [
    "job_cv_engagements = gale_shapley_matching(jobs, cvs, job_preferences, cv_preferences, k)\n",
    "print(job_cv_engagements)"
   ]
  }
 ],
 "metadata": {
  "kernelspec": {
   "display_name": "Python 3 (ipykernel)",
   "language": "python",
   "name": "python3"
  },
  "language_info": {
   "codemirror_mode": {
    "name": "ipython",
    "version": 3
   },
   "file_extension": ".py",
   "mimetype": "text/x-python",
   "name": "python",
   "nbconvert_exporter": "python",
   "pygments_lexer": "ipython3",
   "version": "3.10.9"
  }
 },
 "nbformat": 4,
 "nbformat_minor": 5
}
